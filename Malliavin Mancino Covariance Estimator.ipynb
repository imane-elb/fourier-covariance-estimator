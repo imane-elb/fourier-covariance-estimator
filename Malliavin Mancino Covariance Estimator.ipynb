{
 "cells": [
  {
   "cell_type": "code",
   "execution_count": 27,
   "metadata": {},
   "outputs": [],
   "source": [
    "import math\n",
    "import time\n",
    "import random\n",
    "import numpy as np\n",
    "from cmath import exp\n",
    "from numpy.fft import fft\n",
    "from numpy.fft import fftfreq\n",
    "from scipy.integrate import quad"
   ]
  },
  {
   "cell_type": "markdown",
   "metadata": {},
   "source": [
    "# Financial Data Analysis via Non Uniform Fourier Transform\n",
    "## Authors \n",
    "* Imane El Bouzid : imane.elbouzid@student-cs.fr\n",
    "* Richard John Lin : richardjohn.lin@student-cs.fr\n",
    "## Malliavin Mancino Covariance Estimator\n",
    "The Malliavin Mancino estimator is a non parametric covariance and volatility estimator that does not rely on the assumption of asset data synchronacy. The main idea behind it is to estimate the covariance matrix's Fourier coefficients by using the asset log-prices' Fourier coefficients thanks to the Bohr convolution formula. Indeed, if we denote by $dp_{i}$ the asset $S_{i}$'s log-price and $\\mathscr{F}(f)(k)$ the Fourier coeffecient of order $k$ of the function $f$ :\n",
    "\\begin{equation*}\n",
    "    \\frac{1}{2 \\pi} \\mathscr{F}\\left(\\Sigma^{i, j}\\right)=\\mathscr{F}\\left(d p^{i}\\right) * \\mathscr{F}\\left(d p^{j}\\right),\n",
    "\\end{equation*}\n",
    "where : \n",
    "\\begin{equation*}\n",
    "    \\left(\\mathscr{F}\\left(d p^{i}\\right) * \\mathscr{F}\\left(d p^{j}\\right)\\right)(k):=\\lim _{N \\rightarrow \\infty} \\frac{1}{2 N+1} \\sum_{|s| \\leq N} \\mathscr{F}\\left(d p_{i}\\right)(s) \\mathscr{F}\\left(d p_{j}\\right)(k-s)\n",
    "\\end{equation*}\n",
    "The initial complexity of the Malliavin Mancino estimator as provided in [A Fourier transform for Non Parametric Estimation of Multivariate Volatility](https://projecteuclid.org/journals/annals-of-statistics/volume-37/issue-4/A-Fourier-transform-method-for-nonparametric-estimation-of-multivariate-volatility/10.1214/08-AOS633.f) is $O(N^{2})$. This project's aim is to implement more efficient computation algorithms using the Non Uniform Fourier Transform and to benchmark the coded algorithms regarding their speed and accuracy."
   ]
  },
  {
   "cell_type": "markdown",
   "metadata": {},
   "source": [
    "**Authors :** \n",
    "* Imane El Bouzid imane.elbouzid@student-cs.fr\n",
    "* Richard John Lin : richardjohn.lin@student-cs.fr"
   ]
  },
  {
   "cell_type": "markdown",
   "metadata": {},
   "source": [
    "The Malliavin Mancino covariance estimator relies on the computation of the Fourier coefficients of the log-prices. In this notebook, we implement different estimation methods relying on the Fourier transform, particularly the Non Uniform Fourier Transform. The algorithms of these different methods can be found in the article [*Malliavin-Mancino estimators implemented with non-uniform fast Fourier transforms*](https://arxiv.org/pdf/2003.02842.pdf)."
   ]
  },
  {
   "cell_type": "markdown",
   "metadata": {},
   "source": [
    "# 1. Uniform Fourier Transform Algorithms"
   ]
  },
  {
   "cell_type": "markdown",
   "metadata": {},
   "source": [
    "## 1.1. For Loop Algorithm"
   ]
  },
  {
   "cell_type": "markdown",
   "metadata": {},
   "source": [
    "The For Loop method is the initial computation proposed by Malliavin and Mancino for their estimator. Its complexity is $O(N^{2})$ where N is the total number of observation times. This high computational cost renders the algorithm less than efficient for use on big data sets."
   ]
  },
  {
   "cell_type": "code",
   "execution_count": 3,
   "metadata": {},
   "outputs": [],
   "source": [
    "def loop(time_vect_res, price_vect, cutoff_freq = math.inf) :\n",
    "    \"\"\"Compute the Fourier coefficients a given price vector for a rescaled time vector\n",
    "       Returns the results as a dictionnary\n",
    "       time_vect_res : rescaled time vector, sorted in ascending order\n",
    "       price_vect : price vector of a product with respect to the time vector not log(price)\n",
    "       cutoff_freq : determines the number of Fourier coefficients computed (2N+1). By default, set to Nyquist frequency\n",
    "    \"\"\"\n",
    "    cutoff_freq = min(cutoff_freq, Nyquist_freq(time_vect_res))\n",
    "    n = len(time_vect_res)\n",
    "    dico_coeffs = {}\n",
    "    dico_delta = {l : np.log(price_vect[l+1]) - np.log(price_vect[l]) for l in range(n-1)}\n",
    "    start_time = time.time()\n",
    "    \n",
    "    for k in range(-cutoff_freq, cutoff_freq + 1) :\n",
    "        c = 0\n",
    "        for l in range(n-1) :\n",
    "            res = complex(0, - k*time_vect_res[l])\n",
    "            c += (math.e ** res) * dico_delta[l]\n",
    "        dico_coeffs[k] = c \n",
    "    end_time = time.time()\n",
    "    return dico_coeffs, end_time - start_time"
   ]
  },
  {
   "cell_type": "markdown",
   "metadata": {},
   "source": [
    "## 1.2 Vectorized Implementation Algorithm"
   ]
  },
  {
   "cell_type": "markdown",
   "metadata": {},
   "source": [
    "The Fourier coefficients are calculated via a vector and matrix product. The complexity of this algorithm remains to be $O(N^{2})$, however the numpy modules handles calculations better and provides us with slightly better results in terms of speed for lower ranges of $N$."
   ]
  },
  {
   "cell_type": "code",
   "execution_count": null,
   "metadata": {},
   "outputs": [],
   "source": [
    "def vectorised(time_vect_res, price_vect, cutoff_freq = math.inf):\n",
    "    N = min(cutoff_freq, Nyquist_freq(time_vect_res))\n",
    "\n",
    "    n = len(time_vect_res)\n",
    "    delta = [np.log(price_vect[k+1]) - np.log(price_vect[k]) for k in range(0, n-1)]\n",
    "    delta = np.transpose([delta])\n",
    "    start_time = time.time()\n",
    "\n",
    "    lis = np.asarray([list(range(1,N+1))])\n",
    "    c_n = np.exp(-1j*np.transpose(lis).dot(np.asarray([time_vect_res[:-1]]))).dot(delta)\n",
    "    \n",
    "    dico_coeffs = {}\n",
    "    \n",
    "    for k in range(0, N+1) :\n",
    "        if k == 0 : \n",
    "            dico_coeffs[k] = np.sum(delta)\n",
    "        else : \n",
    "            dico_coeffs[k] = c_n[k-1][0]\n",
    "            dico_coeffs[-k] = np.conj(c_n[k-1][0])\n",
    "\n",
    "    end_time = time.time()\n",
    "\n",
    "    return (dico_coeffs, end_time-start_time)"
   ]
  },
  {
   "cell_type": "markdown",
   "metadata": {},
   "source": [
    "## 1.3 Fast Fourier Transform"
   ]
  },
  {
   "cell_type": "markdown",
   "metadata": {},
   "source": [
    "The Fast Fourier Transform is interesting to compute the Fourier coefficients since it reduces the initially quadratic complexity to $O(Nlog(N))$. However, its main drawback is that the algorithm supposes that the asset prices are observed at the exact same time, rendering it unusable for asynchronous data."
   ]
  },
  {
   "cell_type": "code",
   "execution_count": 14,
   "metadata": {},
   "outputs": [],
   "source": [
    "def fast_fourier_transform(time_vect_res, price_vect, cutoff_freq = math.inf) :\n",
    "    N = min(cutoff_freq, Nyquist_freq(time_vect_res))\n",
    "    \n",
    "    n = len(time_vect_res)\n",
    "    delta = [np.log(price_vect[k+1]) - np.log(price_vect[k]) for k in range(0, n-1)]\n",
    "    \n",
    "    start_time = time.time()\n",
    "    res = fft(delta, min(2*N, n))\n",
    "    end_time = time.time()\n",
    "    dic = {}\n",
    "    frequencies = fftfreq(len(res), 1/len(res))\n",
    "    for i in range(len(res)) : \n",
    "        dic[int(frequencies[i])] = res[i]\n",
    "    return dic, end_time - start_time"
   ]
  },
  {
   "cell_type": "markdown",
   "metadata": {},
   "source": [
    "## 1.4 Zero Padded Fast Fourier Transform"
   ]
  },
  {
   "cell_type": "markdown",
   "metadata": {},
   "source": [
    "The Zero Padded FFT aims to solve the problem posed by asynchrony by zero padding the observation times of every single asset. This produces seemingly synchronous asset price vectors, which makes it possible to use the Fast Fourier Transform and benefit from its $O(Nlog(N))$ complexity. However this method's drawback is its poor precision."
   ]
  },
  {
   "cell_type": "code",
   "execution_count": 6,
   "metadata": {},
   "outputs": [],
   "source": [
    "def zero_padded_fft(time_vect_res, price_vect) :\n",
    "    n = len(time_vect_res)\n",
    "    \n",
    "    step = time_vect_res[1] - time_vect_res[0]\n",
    "    for i in range(n-1) :\n",
    "        if time_vect_res[i+1] - time_vect_res[i] < step :\n",
    "            step = time_vect_res[i+1] - time_vect_res[i]\n",
    "    \n",
    "    delta = [np.log(price_vect[k+1]) - np.log(price_vect[k]) for k in range(0, n-1)]\n",
    "    expected_length = math.floor(2*np.pi/step) + 1\n",
    "    start_time = time.time()\n",
    "    new_delta = [0 for i in range(expected_length)]\n",
    "    for j in range(n-1) :\n",
    "        l = math.floor(expected_length*time_vect_res[j]/(2*np.pi))\n",
    "        new_delta[l] = delta[j]\n",
    "    \n",
    "    result = fft(new_delta)\n",
    "    end_time = time.time()\n",
    "    \n",
    "    dic = {}\n",
    "    frequencies = fftfreq(len(result), 1/len(result))\n",
    "    for i in range(len(result)) : \n",
    "        dic[int(frequencies[i])] = result[i]\n",
    "    \n",
    "    return dic, end_time - start_time"
   ]
  },
  {
   "cell_type": "markdown",
   "metadata": {},
   "source": [
    "# 2. Non Uniform Fourier Transform Algorithms"
   ]
  },
  {
   "cell_type": "markdown",
   "metadata": {},
   "source": [
    "The non uniform Fourier Transform is an extension of the general definition of the Fourier transform where the observation points (x_{0},...,x_{N-1}) are not necessarily sampled in a uniform way. The Fourier coefficient of the frequency $k \\in \\mathbb{K} \\subset \\mathbb{N}$ is defined by : \n",
    "\\begin{equation*}\n",
    "    F(\\textbf{k}) := \\sum_{j=0}^{N-1} f_{j}e^{-i\\textbf{k}.\\textbf{x}_{j}} \\quad \\text{pour} \\quad \\textbf{k} \\in K.\n",
    "\\end{equation*}\n",
    "We can notice that :\n",
    "\\begin{equation*}\n",
    "    F(k)=\\sum_{n=0}^{N-1} f_{n} e^{-i k x_{n}}=\\int\\left(\\sum_{n=0}^{N-1} f_{n} \\delta\\left(t-x_{n}\\right)\\right) e^{-i k t} d t=G(k).\n",
    "\\end{equation*}\n",
    "where $G$ is the Fourier transform of the function $g(x) := \\sum_{j=0}^{N-1} f_{j}\\delta(x-x_{j})$. <br>\n",
    "The main idea behind the non uniform Fourier transform is to convolve the function $g$ by a sufficiently regular function, called kernel, satisfying certain properties, that make it possible to over-sample the convoluted product on a regular grid of length $M = \\sigma N$ and perform the Fast Fourier Transform on it. The Fourier transform F is finally obtained by deconvolving (which is equivalent to dividing by the Fourier transform of the chosen kernel). The parameter $\\sigma$ is usually taken equal to 2. The algorithms involve more parameters that are fine tuned to increase performance and accuracy. <br>\n",
    "For a more detailed overview about the non uniform Fourier transform, an excerpt of that section on our final report (in French) is available in the repositery. "
   ]
  },
  {
   "cell_type": "markdown",
   "metadata": {},
   "source": [
    "We will now implement the non uniform Fourier transform using three popular kernels."
   ]
  },
  {
   "cell_type": "markdown",
   "metadata": {},
   "source": [
    "## 2.1 Non Uniform Fast Fourier Transform : Exponential of semi-circle kernel"
   ]
  },
  {
   "cell_type": "markdown",
   "metadata": {},
   "source": [
    "\\begin{equation*}\n",
    "    \\phi_{E S}(x)=\\left\\{\\begin{array}{ll}\n",
    "e^{\\beta \\sqrt{1-x^{2}}-1} & \\text{si }|x| \\leq 1, \\\\\n",
    "0 & \\text {sinon}.\n",
    "\\end{array}\\right.\n",
    "\\end{equation*}"
   ]
  },
  {
   "cell_type": "code",
   "execution_count": 18,
   "metadata": {},
   "outputs": [],
   "source": [
    "def ES(z, w) :\n",
    "    b = 2.3*w\n",
    "    if abs(z) <= 1 :\n",
    "        return exp(b*(math.sqrt(1-z**2) - 1))\n",
    "    return 0\n",
    "\n",
    "def ES_kernel(x, w, Mr) :\n",
    "    a = np.pi *w / Mr\n",
    "    return ES(x/a, w)\n",
    "\n",
    "def Fourier_ES_kernel(k, w, Mr) :\n",
    "    a = np.pi * w / Mr\n",
    "    def f(x) :\n",
    "        return a*np.exp(complex(0, a*k*x))*ES(x, w)\n",
    "    return quad(f, -1, 1)[0]"
   ]
  },
  {
   "cell_type": "code",
   "execution_count": 8,
   "metadata": {},
   "outputs": [],
   "source": [
    "def NUFFT_ES(time_vect_res, price_vect, M, tol) :\n",
    "    \"\"\"\n",
    "    time_vect_res : rescaled time_vector\n",
    "    price_vect : price vector of a product with respect to the time vector not log(price)\n",
    "    tol : desired precision\n",
    "    M : number of Fourier modes to be computed \n",
    "    \"\"\"\n",
    "    \n",
    "    n = len(time_vect_res)\n",
    "    \n",
    "    dp = [np.log(price_vect[i+1])-np.log(price_vect[i]) for i in range(n-1)] #différentielle des log-prix\n",
    "    \n",
    "    start_time = time.time()\n",
    "    Mr = sigma*M\n",
    "    Msp = math.floor(0.5*(2-np.log10(tol))+2)\n",
    "    w = 2*Msp + 1\n",
    "    h = 2*np.pi/Mr\n",
    "    \n",
    "    over_sample = [0 for i in range(Mr)] \n",
    "    \n",
    "    for j in range(n-1) :\n",
    "        xj = time_vect_res[j]\n",
    "        xhi = math.floor(xj/h)\n",
    "        diff = xj - xhi*h\n",
    "        \n",
    "        for k in range(-Msp, Msp+1) :\n",
    "            i = xhi - k\n",
    "            if i > Mr - 1 :\n",
    "                i = i%Mr\n",
    "            z = dp[j]*ES_kernel(diff - k*h, w, Mr)\n",
    "            over_sample[i] = over_sample[i] + z\n",
    "        \n",
    "    fourier_coeffs = fft(over_sample)\n",
    "    frequencies = fftfreq(len(fourier_coeffs), 1/len(fourier_coeffs))\n",
    "    freqs = list(frequencies[:int((M-1)/2)+1]) + list(frequencies[-int((M-1)/2):])\n",
    "    \n",
    "    dic = {}\n",
    "    l = len(fourier_coeffs)\n",
    "    \n",
    "    for k in freqs : \n",
    "        dic[int(k)] = 2*np.pi*fourier_coeffs[int(k)]/(Fourier_ES_kernel(int(k), w, Mr)*l)\n",
    "        \n",
    "    end_time = time.time()\n",
    "    return dic, end_time - start_time"
   ]
  },
  {
   "cell_type": "markdown",
   "metadata": {},
   "source": [
    "## 2.2 Non Uniform Fast Fourier Transform : Gaussian Kernel"
   ]
  },
  {
   "cell_type": "markdown",
   "metadata": {},
   "source": [
    "\\begin{equation*}\n",
    "    \\varphi_{G}(x)=e^{-x^{2} / 4 \\tau} \\text{ for } x \\in \\mathbb{R}, \\quad \\tau=\\frac{1}{M^{2}} \\frac{\\pi}{\\sigma(\\sigma-0.5)} M_{s p}.\n",
    "\\end{equation*}"
   ]
  },
  {
   "cell_type": "code",
   "execution_count": 10,
   "metadata": {},
   "outputs": [],
   "source": [
    "def GS_kernel(x, M, Msp) :\n",
    "    tau = np.pi*Msp/((M**2)*sigma*(sigma-0.5))\n",
    "    return np.exp(-(x**2)/(4*tau))\n",
    "\n",
    "def Fourier_GS_kernel(k, M, Msp) :\n",
    "    tau = np.pi*Msp/((M**2)*sigma*(sigma-0.5))\n",
    "    return 2 * math.sqrt(np.pi * tau)*exp(-k*k*tau)"
   ]
  },
  {
   "cell_type": "code",
   "execution_count": 9,
   "metadata": {},
   "outputs": [],
   "source": [
    "def NUFFT_GS(time_vect_res, price_vect, M, tol) :\n",
    "    \"\"\"\n",
    "    time_vect_res : rescaled time_vector\n",
    "    price_vect : price vector of a product with respect to the time vector not log(price)\n",
    "    tol : desired precision\n",
    "    M : number of Fourier modes to be computed \n",
    "    \"\"\"\n",
    "    \n",
    "    n = len(time_vect_res)\n",
    "    \n",
    "    dp = [np.log(price_vect[i+1])-np.log(price_vect[i]) for i in range(n-1)] # différentielle des log-prix\n",
    "    \n",
    "    start_time = time.time()\n",
    "    Mr = sigma*M\n",
    "    Msp = math.floor(0.5 - np.log(tol)*(sigma-0.5)/(np.pi*(sigma-1)))\n",
    "    h = 2*np.pi/Mr\n",
    "    \n",
    "    over_sample = [0 for i in range(Mr)] \n",
    "    \n",
    "    for j in range(n-1) :\n",
    "        xj = time_vect_res[j]\n",
    "        xhi = math.floor(xj/h)\n",
    "        diff = xj - xhi*h\n",
    "        \n",
    "        for k in range(-Msp, Msp+1) :\n",
    "            i = xhi - k\n",
    "            if i > Mr - 1 :\n",
    "                i = i%Mr\n",
    "            z = dp[j]*GS_kernel(diff - k*h, M, Msp)\n",
    "            over_sample[i] = over_sample[i] + z\n",
    "        \n",
    "    fourier_coeffs = fft(over_sample)\n",
    "    fourier_coeffs /= len(fourier_coeffs)\n",
    "    frequencies = fftfreq(len(fourier_coeffs), 1/len(fourier_coeffs))\n",
    "    freqs = list(frequencies[:int((M-1)/2)+1]) + list(frequencies[-int((M-1)/2):])\n",
    "    \n",
    "    dic = {}\n",
    "    \n",
    "    for k in freqs : \n",
    "        dic[int(k)] = fourier_coeffs[int(k)]/Fourier_GS_kernel(int(k), M, Msp) * (2*np.pi)\n",
    "        \n",
    "    end_time = time.time()\n",
    "    return dic, end_time - start_time"
   ]
  },
  {
   "cell_type": "markdown",
   "metadata": {},
   "source": [
    "## 2.3 Non Uniform Fast Fourier Transform : Kaiser-Bessel Kernel"
   ]
  },
  {
   "cell_type": "markdown",
   "metadata": {},
   "source": [
    "\\begin{equation*}\n",
    "    \\varphi_{K B}(x)=\\frac{1}{\\pi}\\left\\{\\begin{array}{ll}\n",
    "\\frac{\\sinh \\left(b \\sqrt{M_{s p}^{2}-M_{r}^{2} x^{2}}\\right)}{\\sqrt{M_{s p}^{2}-M_{r}^{2} x^{2}}} & \\text{if }|x| \\leq \\frac{M_{s p}}{M_{r}}, \\\\\n",
    "\\frac{\\sin \\left(b \\sqrt{M_{r}^{2} x^{2}-M_{s p}^{2}}\\right)}{\\sqrt{M_{r}^{2} x^{2}-M_{s p}^{2}}} & \\text {else}.\n",
    "\\end{array}\\right.\n",
    "\\end{equation*}\n",
    "\\begin{equation*}\n",
    "    \\hat{\\varphi}_{K B}(k)=\\frac{1}{M_{r}} I_{0}\\left(m \\sqrt{b^{2}-\\left(2 \\pi k / M_{r}\\right)^{2}}\\right),\n",
    "\\end{equation*}"
   ]
  },
  {
   "cell_type": "code",
   "execution_count": 12,
   "metadata": {},
   "outputs": [],
   "source": [
    "def KB_kernel(x, Msp, Mr) :\n",
    "    b = (2-1/sigma)*np.pi\n",
    "    if abs(x) < Msp/Mr :\n",
    "        result = np.sinh(b*math.sqrt(Msp**2 - (Mr**2)*(x**2)))/math.sqrt(Msp**2) - (Mr**2)*(x**2)\n",
    "    elif abs(x) > Msp/Mr  : \n",
    "        result = np.sin(b*math.sqrt((Mr**2)*(x**2) - Msp**2))/math.sqrt((Mr**2)*(x**2) - Msp**2)\n",
    "    else : \n",
    "        result = b\n",
    "    return result/np.pi\n",
    "\n",
    "def Fourier_KB_kernel(k, Msp, Mr) :\n",
    "    b = (2-1/sigma)*np.pi\n",
    "    result = math.sqrt(b**2 - (2*np.pi*k/Mr)**2)\n",
    "    return np.i0(Msp*result)/Mr"
   ]
  },
  {
   "cell_type": "code",
   "execution_count": 15,
   "metadata": {},
   "outputs": [],
   "source": [
    "def NUFFT_KB(time_vect_res, price_vect, M, tol) :\n",
    "    \"\"\"\n",
    "    time_vect_res : rescaled time_vector\n",
    "    price_vect : price vector of a product with respect to the time vector not log(price)\n",
    "    tol : desired precision\n",
    "    M : number of Fourier modes to be computed \n",
    "    \"\"\"\n",
    "    \n",
    "    n = len(time_vect_res)\n",
    "    \n",
    "    dp = [np.log(price_vect[i+1])-np.log(price_vect[i]) for i in range(n-1)]\n",
    "    \n",
    "    start_time = time.time()\n",
    "    Mr = sigma*M\n",
    "    Msp = math.floor(0.5*(2-np.ceil(np.log10(tol))))\n",
    "    h = 1/Mr\n",
    "    \n",
    "    over_sample = [0 for i in range(Mr)] \n",
    "    \n",
    "    for j in range(n-1) :\n",
    "        xj = time_vect_res[j]\n",
    "        xhi = math.floor(xj/h)\n",
    "        diff = xj - xhi*h\n",
    "        \n",
    "        for k in range(-Msp, Msp+1) :\n",
    "            i = xhi - k\n",
    "            if i > Mr - 1 :\n",
    "                i = i%Mr\n",
    "            z = dp[j]*KB_kernel(diff - k*h, Msp, Mr)\n",
    "            over_sample[i] = over_sample[i] + z\n",
    "        \n",
    "    fourier_coeffs = fft(over_sample)\n",
    "    fourier_coeffs /= len(fourier_coeffs)\n",
    "    frequencies = fftfreq(len(fourier_coeffs), 1/len(fourier_coeffs))\n",
    "    freqs = list(frequencies[:int((M-1)/2)+1]) + list(frequencies[-int((M-1)/2):])\n",
    "    \n",
    "    dic = {}\n",
    "    \n",
    "    for k in freqs : \n",
    "        dic[int(k)] = fourier_coeffs[int(k)]/Fourier_KB_kernel(int(k), Msp, Mr)\n",
    "    end_time = time.time()\n",
    "    return dic, end_time - start_time"
   ]
  },
  {
   "cell_type": "markdown",
   "metadata": {},
   "source": [
    "# 3. Covariance matrix reconstruction"
   ]
  },
  {
   "cell_type": "markdown",
   "metadata": {},
   "source": [
    "As proved by Malliavin and Mancino in their article [A Fourier transform for Non Parametric Estimation of Multivariate Volatility](https://projecteuclid.org/journals/annals-of-statistics/volume-37/issue-4/A-Fourier-transform-method-for-nonparametric-estimation-of-multivariate-volatility/10.1214/08-AOS633.f), the Fourier coefficients of the covariance matrix can be reconstructed from the Fourier coefficients of the log-prices by a Bohr convolution. The covariance matrix can later be recovered by a Dirichlet or a Fejer inversion."
   ]
  },
  {
   "cell_type": "code",
   "execution_count": 2,
   "metadata": {},
   "outputs": [],
   "source": [
    "def time_rescale(time_vect, p) :\n",
    "    \"\"\"Rescales a time vector from [0 T] to [0 p]\n",
    "       time_vect : time vector to rescale, sorted in ascending order\n",
    "       p : period\n",
    "    \"\"\"\n",
    "    return [p*(time_vect[i]-time_vect[0])/(time_vect[-1]-time_vect[0]) for i in range(len(time_vect))]\n",
    "\n",
    "def Nyquist_freq(time_vect_res) :\n",
    "    \"\"\"Computes the Nyquist frequency for a rescaled time vector\n",
    "       time_vect_res : rescaled time vector, sorted in ascending order\n",
    "    \"\"\"\n",
    "    dt = math.inf\n",
    "    for i in range(len(time_vect_res)-1) :\n",
    "        res = time_vect_res[i+1] - time_vect_res[i]\n",
    "        if res < dt :\n",
    "            dt = res\n",
    "    return math.floor(math.pi/dt)\n",
    "\n",
    "def covariance_matrix(prices, time_vect, method='loop', tol=1e-6, reconstruct='FEJ') :\n",
    "    \"\"\" Returns a dictionary of dictionaries\n",
    "       prices : a list of price vectors\n",
    "       method : the name of the method to compute the coefficients\n",
    "    \"\"\"\n",
    "    correction = {}\n",
    "    for i in range(len(new_times)) :\n",
    "        correction[i] = new_times[i][-1] - new_times[i][0]\n",
    "        \n",
    "    d = {}\n",
    "    t = 0\n",
    "    tmax = time_vect[-1]\n",
    "    tmin = time_vect[0]\n",
    "    \n",
    "    for i in range(len(prices)) :\n",
    "        if method == 'loop' :\n",
    "            time_vect_res = time_rescale(time_vect, 2*np.pi)\n",
    "            d[i], ti = loop(time_vect_res, prices[i], cutoff_freq = math.inf)  \n",
    "            t += ti\n",
    "        if method == 'vectorized' :\n",
    "            time_vect_res = time_rescale(time_vect, 2*np.pi)\n",
    "            d[i], ti = vectorised(time_vect_res, prices[i], cutoff_freq = math.inf)\n",
    "            t += ti\n",
    "        if method == 'fft' :\n",
    "            time_vect_res = time_rescale(time_vect, 2*np.pi)\n",
    "            d[i], ti = fast_fourier_transform(time_vect_res, prices[i], cutoff_freq = math.inf)\n",
    "            t += ti\n",
    "        if method == 'zfft' :\n",
    "            time_vect_res = time_rescale(time_vect, 2*np.pi)\n",
    "            d[i], ti = zero_padded_fft(time_vect_res, prices[i])\n",
    "            t += ti\n",
    "        if method == 'es-nufft' :\n",
    "            time_vect_res = time_rescale(time_vect, 2*np.pi)\n",
    "            N = Nyquist_freq(time_vect_res)\n",
    "            d[i], ti = NUFFT_ES(time_vect_res, prices[i], 2*N+1, tol)\n",
    "            t += ti\n",
    "        if method == 'gs-nufft' :\n",
    "            time_vect_res = time_rescale(time_vect, 2*np.pi)\n",
    "            N = Nyquist_freq(time_vect_res)\n",
    "            d[i], ti = NUFFT_GS(time_vect_res, prices[i], 2*N+1, tol)\n",
    "            t += ti\n",
    "        if method == 'kb-nufft' :\n",
    "            time_vect_res = time_rescale(time_vect, 1)\n",
    "            N = Nyquist_freq(time_vect_res)\n",
    "            d[i], ti = NUFFT_KB(time_vect_res, prices[i], 2*N+1, tol)\n",
    "            t += ti\n",
    "        if method == 'finufft' :\n",
    "            time_vect_res = time_rescale(time_vect, 2*np.pi)\n",
    "            d[i], ti = native_nufft(time_vect_res, prices[i], cutoff_freq = math.inf, tol=tol)\n",
    "            \n",
    "    for i in d.keys() :\n",
    "        for k in d[i].keys() :\n",
    "            d[i][k] = d[i][k]/np.sqrt(correction[i])\n",
    "    \n",
    "    if reconstruct == 'FEJ' :\n",
    "        return int_covol_FEJ(d), t\n",
    "    elif reconstruct == 'DIR' :\n",
    "        return int_covol_DIR(d), t\n",
    "\n",
    "def int_covol_DIR(fourier_coeffs) :\n",
    "    \"\"\" Returns the estimator of the integrated covariance matrix\n",
    "       fourier_coeffs : dictionnary containing the fourier coefficients of each asset\n",
    "    \"\"\"\n",
    "    nbr_of_assets = len(fourier_coeffs)\n",
    "    covol = [[] for i in range(nbr_of_assets)]\n",
    "    N = int((len(fourier_coeffs[0])-1)/2)\n",
    "    for i in range(nbr_of_assets) :\n",
    "        for j in range(nbr_of_assets) :\n",
    "            corr = 0\n",
    "            for s in range(-N, N+1) :\n",
    "                corr += fourier_coeffs[i][s]*fourier_coeffs[j][-s]\n",
    "            covol[i].append((np.real(corr)/(2*N+1)))\n",
    "    return covol\n",
    "\n",
    "def int_covol_FEJ(fourier_coeffs) :\n",
    "    \"\"\" Returns the estimator of the integrated covariance matrix\n",
    "       fourier_coeffs : dictionnary containing the fourier coefficients of each asset\n",
    "    \"\"\"\n",
    "    nbr_of_assets = len(fourier_coeffs)\n",
    "    covol = [[] for i in range(nbr_of_assets)]\n",
    "    N = int((len(fourier_coeffs[0])-1)/2)\n",
    "    for i in range(nbr_of_assets) :\n",
    "        for j in range(nbr_of_assets) :\n",
    "            corr = 0\n",
    "            for s in range(-N, N+1) :\n",
    "                corr += fourier_coeffs[i][s]*fourier_coeffs[j][-s]*(1-abs(s)/N)\n",
    "            covol[i].append((np.real(corr)/(N+1)))\n",
    "    return covol "
   ]
  }
 ],
 "metadata": {
  "kernelspec": {
   "display_name": "Python 3",
   "language": "python",
   "name": "python3"
  },
  "language_info": {
   "codemirror_mode": {
    "name": "ipython",
    "version": 3
   },
   "file_extension": ".py",
   "mimetype": "text/x-python",
   "name": "python",
   "nbconvert_exporter": "python",
   "pygments_lexer": "ipython3",
   "version": "3.7.6"
  }
 },
 "nbformat": 4,
 "nbformat_minor": 4
}
