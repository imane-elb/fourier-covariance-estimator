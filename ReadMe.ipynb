{
 "cells": [
  {
   "cell_type": "markdown",
   "metadata": {},
   "source": [
    "# Financial Data Analysis via Non Uniform Fourier Transform"
   ]
  },
  {
   "cell_type": "markdown",
   "metadata": {},
   "source": [
    "## Authors \n",
    "* Imane El Bouzid : imane.elbouzid@student-cs.fr\n",
    "* Richard John Lin : richardjohn.lin@student-cs.fr"
   ]
  },
  {
   "cell_type": "markdown",
   "metadata": {},
   "source": [
    "## Malliavin Mancino Covariance Estimator\n",
    "The Malliavin Mancino estimator is a non parametric covariance and volatility estimator that does not rely on the assumption of asset data synchronacy. The main idea behind it is to estimate the covariance matrix's Fourier coefficients by using the asset log-prices' Fourier coefficients thanks to the Bohr convolution formula. Indeed, if we denote by $p_{i}$ the asset $S_{i}$'s log-price and $\\mathscr{F}(f)(k)$ the Fourier coeffecient of order $k$ of the function $f$ :\n",
    "\\begin{equation*}\n",
    "    \\frac{1}{2 \\pi} \\mathscr{F}\\left(\\Sigma^{i, j}\\right)=\\mathscr{F}\\left(d p^{i}\\right) * \\mathscr{F}\\left(d p^{j}\\right),\n",
    "\\end{equation*}\n",
    "where : \n",
    "\\begin{equation*}\n",
    "    \\left(\\mathscr{F}\\left(d p^{i}\\right) * \\mathscr{F}\\left(d p^{j}\\right)\\right)(k):=\\lim _{N \\rightarrow \\infty} \\frac{1}{2 N+1} \\sum_{|s| \\leq N} \\mathscr{F}\\left(d p_{i}\\right)(s) \\mathscr{F}\\left(d p_{j}\\right)(k-s)\n",
    "\\end{equation*}\n",
    "The initial complexity of the Malliavin Mancino estimator as provided in [A Fourier transform for Non Parametric Estimation of Multivariate Volatility](https://projecteuclid.org/journals/annals-of-statistics/volume-37/issue-4/A-Fourier-transform-method-for-nonparametric-estimation-of-multivariate-volatility/10.1214/08-AOS633.f) is $O(N^{2})$. This project's aim is to implement more efficient computation algorithms using the Non Uniform Fourier Transform and to benchmark the coded algorithms regarding their speed and accuracy."
   ]
  },
  {
   "cell_type": "markdown",
   "metadata": {},
   "source": [
    "## Bibliography and References\n",
    "[1] H. Alexander Barnett, Jeremy Magland, and Ludvig Af Klinteberg. A parallelnonuniform fast fourier transform library based on an exponential of semicirclekernel. 2019. <br>\n",
    "[2] Patrick Chang. Fourier instantaneous estimators and the epps effect. 2020. <br>\n",
    "[3] Patrick Chang, Etienne Pienaar, and Tim Gebbie. Malliavin-mancino estima-tors implemented with non-uniform fast fourier transforms. 2020. <br>\n",
    "[4] A. Dutt and V. Rokhlin. Fast fourier transforms for nonequispaced data.Ap-plied and Computational Harmonic Analysis, 2 :85–100, 1995. <br>\n",
    "[5] T. W. Epps. Comovements in stock prices in the very short run.Journal ofAmerican Statistics Association, 74 :291–298, 1979. <br>[6] Paul Glasserman.Monte Carlo Methods in Financial Engineering. Springer,2003. <br>\n",
    "[7] Leslie Greengard and June-Yub Lee. Accelerating the nonuniform fast fouriertransform.SIAM review, 46 :443–454, 2004. <br>\n",
    "[8] T. Hayashi and N. Yoshida.  On covariance estimation of nin-synchronouslyobserved diffusion processes.Bernoulli, 11(2) :359–379, 2005. <br>\n",
    "[9] Paul Malliavin and Maria Elvira Mancino.  A fourier transform method fornon parametric estimation of multivariate volatility.The Annals of Statistics,37(4) :4–10, 2009. <br>\n",
    "[10] Roberto Renò. A closer look at the epps effect.International Journal of Theo-retical and Applied Finance, 6(1) :87–102, 2003."
   ]
  }
 ],
 "metadata": {
  "kernelspec": {
   "display_name": "Python 3",
   "language": "python",
   "name": "python3"
  },
  "language_info": {
   "codemirror_mode": {
    "name": "ipython",
    "version": 3
   },
   "file_extension": ".py",
   "mimetype": "text/x-python",
   "name": "python",
   "nbconvert_exporter": "python",
   "pygments_lexer": "ipython3",
   "version": "3.7.6"
  }
 },
 "nbformat": 4,
 "nbformat_minor": 4
}
